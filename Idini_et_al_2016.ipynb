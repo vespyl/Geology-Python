{
 "cells": [
  {
   "cell_type": "markdown",
   "id": "15955962",
   "metadata": {},
   "source": [
    "<center> <h1>Ground motion prediction equations for the Chilean subduction zone</h1>\n",
    "    \n",
    "<center> <strong><em> Idini et a. 2016 </em></strong>"
   ]
  },
  {
   "cell_type": "markdown",
   "id": "68be4444",
   "metadata": {},
   "source": [
    "## Functional Form"
   ]
  },
  {
   "cell_type": "markdown",
   "id": "e58f8a30",
   "metadata": {},
   "source": [
    "$log_{10} Y = F_F (M_w, H, F_{eve}) + F_D (R, M_w, F_{eve}) + F_S$\n",
    "\n",
    "$F_F$: contributions of the seismic source\n",
    "\n",
    "$F_D$: the path effects between the seismic source and the site\n",
    "\n",
    "$F_S$: local site effects"
   ]
  },
  {
   "cell_type": "markdown",
   "id": "db4e6fdb",
   "metadata": {},
   "source": [
    "### Variables"
   ]
  },
  {
   "cell_type": "markdown",
   "id": "f30edf5b",
   "metadata": {},
   "source": [
    "$M_w$: Event Magnitude\n",
    "\n",
    "$H$: Hypocentral depth $[km]$\n",
    "\n",
    "$F_{eve}$: Dummy variable $[0$ for Interface; $1$ for Intraslab$]$\n",
    "\n",
    "$R$: the source distance defined as the hypocentral distance for intraslab\n",
    "and $M_w < 7.7$ interface earthquakes, and as the closest distance to rupture area for $M_w \\geq 7.7$\n",
    "interface earthquakes.\n",
    "\n",
    "$T$: Period (s) $['PGA',0.01,0.02,0.03,...,4,5,7.5,10]$\n",
    "\n",
    "$Vs_{30}$: Shear wave velocity for the first 30 meters of soil $[^m/_s]$"
   ]
  },
  {
   "cell_type": "markdown",
   "id": "2e4d44f1",
   "metadata": {},
   "source": [
    "### Source ($F_F$)"
   ]
  },
  {
   "cell_type": "markdown",
   "id": "64865ef6",
   "metadata": {},
   "source": [
    "$F_F (M_w, H, F_{eve}) = c_1 + c_2M_w + c_8*(H - h_0)*F_{eve} + \\Delta f_m$"
   ]
  },
  {
   "cell_type": "markdown",
   "id": "21c84448",
   "metadata": {},
   "source": [
    "|$\\Delta f_m$|$F_{eve}$|\n",
    "|:-:|:-:|\n",
    "|$c_9M_w^2$|$0$|\n",
    "|$\\Delta c_1 + \\Delta c_2M_w$|$1$|"
   ]
  },
  {
   "cell_type": "markdown",
   "id": "0cbcab78",
   "metadata": {},
   "source": [
    "$h_0 = 50 km$"
   ]
  },
  {
   "cell_type": "markdown",
   "id": "2c6a3952",
   "metadata": {},
   "source": [
    "|**Event**|$F_{eve}$|\n",
    "|:-:|:-:|\n",
    "|**Interface**|$0$|\n",
    "|**Intraslab**|$1$|"
   ]
  },
  {
   "cell_type": "markdown",
   "id": "0f9aea0c",
   "metadata": {},
   "source": [
    "### Path ($F_D$)"
   ]
  },
  {
   "cell_type": "markdown",
   "id": "d006045a",
   "metadata": {},
   "source": [
    "$F_D ( R, M_w, F_{eve}) = g*log_{10}(R + R_0) + c_5R$"
   ]
  },
  {
   "cell_type": "markdown",
   "id": "0c3f071a",
   "metadata": {},
   "source": [
    "$R_o=(1-F_{eve})c_610^{c7*[Mw-Mr]}$\n",
    "\n",
    "$g = c_3+c_4[M_w-M_r]+\\Delta c_3F_{eve}$\n",
    "\n",
    "$M_r = 5$"
   ]
  },
  {
   "cell_type": "markdown",
   "id": "dc1dc4fd",
   "metadata": {},
   "source": [
    "### Site ($F_S$)"
   ]
  },
  {
   "cell_type": "markdown",
   "id": "98001184",
   "metadata": {},
   "source": [
    "#### Types of soils"
   ]
  },
  {
   "cell_type": "markdown",
   "id": "e99e0cc9",
   "metadata": {},
   "source": [
    "|$S_C$|$T^*(s)$|\n",
    "|:-:|:-:|\n",
    "|$S_I$|**Not identifiable:** $HVSR \\leq 2$|\n",
    "|$S_{II}$|$T^* \\leq 0.2$|\n",
    "|$S_{III}$|$0.2\\le T^* \\leq0.4$|\n",
    "|$S_{IV}$|$0.4\\le T^* \\leq0.8$|\n",
    "|$S_{V}$|$T^* \\ge 0.8$|\n",
    "|$S_{VI}$|**Not identifiable: BB amplification or 2+peaks**|"
   ]
  },
  {
   "cell_type": "markdown",
   "id": "bb70a0f0",
   "metadata": {},
   "source": [
    "$F_S = F_S(VS_{30}, T^*) = log_{10}(f_s) = S_{T^*} (T) log_{10}  (\\frac {Vs_{30}}{Vref})$"
   ]
  },
  {
   "cell_type": "markdown",
   "id": "2f76d155",
   "metadata": {},
   "source": [
    "$V_{ref} = 1530$  $[^m/_s]$"
   ]
  },
  {
   "cell_type": "markdown",
   "id": "e9b32e92",
   "metadata": {},
   "source": [
    "## Limits"
   ]
  },
  {
   "cell_type": "markdown",
   "id": "18c16800",
   "metadata": {},
   "source": [
    "|$M_w$ **range**|**Intraslab R limit (km)**|**Interface R limit (km)**|\n",
    "|:-:|:-:|:-:|\n",
    "|$5.5\\leq M_w \\leq 6.0$|$R \\leq 150$|$R \\leq 100$|\n",
    "|$6.0\\leq M_w \\leq 6.5$|$R \\leq 300$|$R \\leq 150$|\n",
    "|$6.5\\leq M_w \\leq 7.5$|$R \\leq 300$|$R \\leq 300$|\n",
    "|     $M_w \\ge 7.5$    |$R \\leq 400$|$R \\leq 400$|\n",
    "|.........Limits.................|"
   ]
  },
  {
   "cell_type": "code",
   "execution_count": 2,
   "id": "08d64980",
   "metadata": {},
   "outputs": [],
   "source": [
    "import pandas as pd\n",
    "import numpy as np"
   ]
  },
  {
   "cell_type": "code",
   "execution_count": 3,
   "id": "22220c40",
   "metadata": {},
   "outputs": [],
   "source": [
    "ci = pd.read_csv('C.csv',index_col=0)\n",
    "s_t = pd.read_csv('s_t.csv',index_col=0)"
   ]
  },
  {
   "cell_type": "code",
   "execution_count": 4,
   "id": "4327b55e",
   "metadata": {
    "scrolled": false
   },
   "outputs": [
    {
     "data": {
      "text/plain": [
       "c3    -0.97558\n",
       "c5    -0.00174\n",
       "Dc3   -0.52745\n",
       "rr     0.23200\n",
       "c1    -2.85480\n",
       "c2     0.77410\n",
       "c9    -0.03958\n",
       "c8     0.00586\n",
       "Dc1    2.56990\n",
       "Dc2   -0.47610\n",
       "re     0.17200\n",
       "rt     0.28900\n",
       "Name: PGA, dtype: float64"
      ]
     },
     "execution_count": 4,
     "metadata": {},
     "output_type": "execute_result"
    }
   ],
   "source": [
    "ci.loc['PGA']"
   ]
  },
  {
   "cell_type": "code",
   "execution_count": 5,
   "id": "e4787fb0",
   "metadata": {},
   "outputs": [],
   "source": [
    "def FF(T,Mw,H,Feve):\n",
    "    import pandas as pd\n",
    "    ho=50\n",
    "    ci = pd.read_csv('C.csv',index_col=0)\n",
    "    c_i = ci.loc[T]\n",
    "    if Feve==0:\n",
    "        dfm=c_i['c9']*(Mw**2)\n",
    "    elif Feve==1:\n",
    "        dfm=c_i['Dc1']+c_i['Dc2']*Mw\n",
    "    FF = c_i['c1']+c_i['c2']*Mw+c_i['c8']*(H-ho)*Feve+dfm\n",
    "    return FF"
   ]
  },
  {
   "cell_type": "code",
   "execution_count": 15,
   "id": "86c19bf2",
   "metadata": {},
   "outputs": [
    {
     "data": {
      "text/plain": [
       "1.6839000000000004"
      ]
     },
     "execution_count": 15,
     "metadata": {},
     "output_type": "execute_result"
    }
   ],
   "source": [
    "FF('PGA',7,30,1)"
   ]
  },
  {
   "cell_type": "code",
   "execution_count": 7,
   "id": "e247753a",
   "metadata": {},
   "outputs": [],
   "source": [
    "def FD(T,R,Mw,Feve):\n",
    "    import pandas as pd\n",
    "    import numpy as np\n",
    "    Mr=5.0;c4=0.1;c6=5;c7=0.35\n",
    "    ci = pd.read_csv('C.csv',index_col=0)\n",
    "    c_i = ci.loc[T]\n",
    "    Ro = (1-Feve)*c6*10**(c7*(Mw-Mr))\n",
    "    g = c_i['c3']+c4*(Mw-Mr)+c_i['Dc3']*Feve\n",
    "    FD = g*np.log10(R+Ro)+R*c_i['c5']\n",
    "    return FD"
   ]
  },
  {
   "cell_type": "code",
   "execution_count": 8,
   "id": "d8f26130",
   "metadata": {},
   "outputs": [
    {
     "data": {
      "text/plain": [
       "-2.1648912844030814"
      ]
     },
     "execution_count": 8,
     "metadata": {},
     "output_type": "execute_result"
    }
   ],
   "source": [
    "FD('PGA',50,7.8,1)"
   ]
  },
  {
   "cell_type": "code",
   "execution_count": 9,
   "id": "0f86f3a1",
   "metadata": {},
   "outputs": [],
   "source": [
    "def FS(Vs30,Ts,T):\n",
    "    import pandas as pd\n",
    "    import numpy as np\n",
    "    Vref=1530\n",
    "    st=pd.read_csv('s_t.csv',index_col=0)\n",
    "    s_i = st.loc[T]\n",
    "    if Ts == 0:\n",
    "        si = s_i['sI']\n",
    "    elif 0 < Ts and Ts <= 0.2:\n",
    "        si = s_i['sII']\n",
    "    elif 0.2 < Ts and Ts <= 0.4:\n",
    "        si = s_i['sIII']\n",
    "    elif 0.4 < Ts and Ts <= 0.8:\n",
    "        si = s_i['sIV']\n",
    "    elif Ts < 0.8:\n",
    "        si = s_i['sV']\n",
    "    else:\n",
    "        si = s_i['sVI']\n",
    "    FS = si*np.log10(Vs30/Vref)\n",
    "    return FS"
   ]
  },
  {
   "cell_type": "code",
   "execution_count": 22,
   "id": "57b5a1a3",
   "metadata": {},
   "outputs": [],
   "source": [
    "def Idini_2016(T,Mw,H,R,Feve,Vs30,Ts):\n",
    "    ff = FF(T,Mw,H,Feve)\n",
    "    fd = FD(T,R,Mw,Feve)\n",
    "    fs = FS(Vs30,Ts,T)\n",
    "    return 10**(ff+fd+fs)"
   ]
  },
  {
   "cell_type": "code",
   "execution_count": 26,
   "id": "cebb36cc",
   "metadata": {},
   "outputs": [
    {
     "data": {
      "text/plain": [
       "0.6620877345971488"
      ]
     },
     "execution_count": 26,
     "metadata": {},
     "output_type": "execute_result"
    }
   ],
   "source": [
    "Idini_2016('PGA',7.8,30,50,1,400,0.6)"
   ]
  },
  {
   "cell_type": "code",
   "execution_count": null,
   "id": "e8fe770b",
   "metadata": {},
   "outputs": [],
   "source": []
  }
 ],
 "metadata": {
  "kernelspec": {
   "display_name": "Python 3 (ipykernel)",
   "language": "python",
   "name": "python3"
  },
  "language_info": {
   "codemirror_mode": {
    "name": "ipython",
    "version": 3
   },
   "file_extension": ".py",
   "mimetype": "text/x-python",
   "name": "python",
   "nbconvert_exporter": "python",
   "pygments_lexer": "ipython3",
   "version": "3.9.12"
  }
 },
 "nbformat": 4,
 "nbformat_minor": 5
}
